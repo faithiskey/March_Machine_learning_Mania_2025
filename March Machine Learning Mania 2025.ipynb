{
 "cells": [
  {
   "cell_type": "code",
   "execution_count": 8,
   "id": "a3789a84-971a-4ad3-9bda-eacaa2161813",
   "metadata": {},
   "outputs": [],
   "source": [
    "import pandas as pd\n",
    "import os\n",
    "import glob\n"
   ]
  },
  {
   "cell_type": "code",
   "execution_count": 15,
   "id": "f68c123e-6813-404e-9f05-344959937af5",
   "metadata": {},
   "outputs": [],
   "source": [
    "zip_path = r\"C:\\Users\\HP\\Downloads\\march-machine-learning-mania-2025 (1).zip\""
   ]
  },
  {
   "cell_type": "code",
   "execution_count": 26,
   "id": "ed563181-2d15-4b0f-bd2d-b571052ef9c7",
   "metadata": {},
   "outputs": [],
   "source": [
    "extract_path =r\"C:\\Users\\HP\\Downloads\\march_madness_data\""
   ]
  },
  {
   "cell_type": "code",
   "execution_count": 27,
   "id": "6ca6824d-02be-41df-8b25-429e4ac42689",
   "metadata": {},
   "outputs": [],
   "source": [
    "import zipfile"
   ]
  },
  {
   "cell_type": "code",
   "execution_count": 28,
   "id": "e5738f29-8098-4e1d-b696-342c7c38b103",
   "metadata": {},
   "outputs": [
    {
     "name": "stdout",
     "output_type": "stream",
     "text": [
      "File found!\n"
     ]
    }
   ],
   "source": [
    "if os.path.exists(zip_path):\n",
    "    print(\"File found!\")\n",
    "else:\n",
    "    print(\"File not found! Check the path.\")"
   ]
  },
  {
   "cell_type": "code",
   "execution_count": 29,
   "id": "51861111-55d3-4844-bda1-3ef8f9955e24",
   "metadata": {},
   "outputs": [
    {
     "name": "stdout",
     "output_type": "stream",
     "text": [
      "ZIP file extracted successfully!\n"
     ]
    }
   ],
   "source": [
    "# Extract the ZIP file\n",
    "with zipfile.ZipFile(zip_path, 'r') as zip_ref:\n",
    "    zip_ref.extractall(extract_path)\n",
    "\n",
    "print(\"ZIP file extracted successfully!\")\n"
   ]
  },
  {
   "cell_type": "code",
   "execution_count": 30,
   "id": "f83ac492-2e0c-49ad-a137-b49b3b74cc62",
   "metadata": {},
   "outputs": [
    {
     "data": {
      "text/plain": [
       "['Cities.csv',\n",
       " 'Conferences.csv',\n",
       " 'MConferenceTourneyGames.csv',\n",
       " 'MGameCities.csv',\n",
       " 'MMasseyOrdinals.csv',\n",
       " 'MNCAATourneyCompactResults.csv',\n",
       " 'MNCAATourneyDetailedResults.csv',\n",
       " 'MNCAATourneySeedRoundSlots.csv',\n",
       " 'MNCAATourneySeeds.csv',\n",
       " 'MNCAATourneySlots.csv',\n",
       " 'MRegularSeasonCompactResults.csv',\n",
       " 'MRegularSeasonDetailedResults.csv',\n",
       " 'MSeasons.csv',\n",
       " 'MSecondaryTourneyCompactResults.csv',\n",
       " 'MSecondaryTourneyTeams.csv',\n",
       " 'MTeamCoaches.csv',\n",
       " 'MTeamConferences.csv',\n",
       " 'MTeams.csv',\n",
       " 'MTeamSpellings.csv',\n",
       " 'SampleSubmissionStage1.csv',\n",
       " 'SeedBenchmarkStage1.csv',\n",
       " 'WConferenceTourneyGames.csv',\n",
       " 'WGameCities.csv',\n",
       " 'WNCAATourneyCompactResults.csv',\n",
       " 'WNCAATourneyDetailedResults.csv',\n",
       " 'WNCAATourneySeeds.csv',\n",
       " 'WNCAATourneySlots.csv',\n",
       " 'WRegularSeasonCompactResults.csv',\n",
       " 'WRegularSeasonDetailedResults.csv',\n",
       " 'WSeasons.csv',\n",
       " 'WSecondaryTourneyCompactResults.csv',\n",
       " 'WSecondaryTourneyTeams.csv',\n",
       " 'WTeamConferences.csv',\n",
       " 'WTeams.csv',\n",
       " 'WTeamSpellings.csv']"
      ]
     },
     "execution_count": 30,
     "metadata": {},
     "output_type": "execute_result"
    }
   ],
   "source": [
    "extracted_files = os.listdir(extract_path )\n",
    "extracted_files"
   ]
  },
  {
   "cell_type": "code",
   "execution_count": 31,
   "id": "75fcb870-ddfd-4df4-9369-e84a356b8124",
   "metadata": {},
   "outputs": [],
   "source": [
    "games_df = pd.read_csv(os.path.join(extract_path, \"MRegularSeasonCompactResults.csv\"))"
   ]
  },
  {
   "cell_type": "code",
   "execution_count": 32,
   "id": "e6bf97e6-d043-42ba-946d-194b2d999926",
   "metadata": {},
   "outputs": [
    {
     "name": "stdout",
     "output_type": "stream",
     "text": [
      "<class 'pandas.core.frame.DataFrame'>\n",
      "RangeIndex: 190771 entries, 0 to 190770\n",
      "Data columns (total 8 columns):\n",
      " #   Column   Non-Null Count   Dtype \n",
      "---  ------   --------------   ----- \n",
      " 0   Season   190771 non-null  int64 \n",
      " 1   DayNum   190771 non-null  int64 \n",
      " 2   WTeamID  190771 non-null  int64 \n",
      " 3   WScore   190771 non-null  int64 \n",
      " 4   LTeamID  190771 non-null  int64 \n",
      " 5   LScore   190771 non-null  int64 \n",
      " 6   WLoc     190771 non-null  object\n",
      " 7   NumOT    190771 non-null  int64 \n",
      "dtypes: int64(7), object(1)\n",
      "memory usage: 11.6+ MB\n",
      "None\n"
     ]
    }
   ],
   "source": [
    "print(games_df.info())"
   ]
  },
  {
   "cell_type": "code",
   "execution_count": 33,
   "id": "9b2ff3fa-92df-469a-a046-dc017e4e196d",
   "metadata": {},
   "outputs": [
    {
     "name": "stdout",
     "output_type": "stream",
     "text": [
      "   Season  DayNum  WTeamID  WScore  LTeamID  LScore WLoc  NumOT\n",
      "0    1985      20     1228      81     1328      64    N      0\n",
      "1    1985      25     1106      77     1354      70    H      0\n",
      "2    1985      25     1112      63     1223      56    H      0\n",
      "3    1985      25     1165      70     1432      54    H      0\n",
      "4    1985      25     1192      86     1447      74    H      0\n"
     ]
    }
   ],
   "source": [
    "print(games_df.head())"
   ]
  },
  {
   "cell_type": "code",
   "execution_count": 34,
   "id": "7921bf5b-4748-4a03-a9d1-eb449edd0596",
   "metadata": {},
   "outputs": [
    {
     "name": "stdout",
     "output_type": "stream",
     "text": [
      "Season     0\n",
      "DayNum     0\n",
      "WTeamID    0\n",
      "WScore     0\n",
      "LTeamID    0\n",
      "LScore     0\n",
      "WLoc       0\n",
      "NumOT      0\n",
      "dtype: int64\n"
     ]
    }
   ],
   "source": [
    "print(games_df.isnull().sum())"
   ]
  },
  {
   "cell_type": "code",
   "execution_count": 36,
   "id": "add8c085-1519-475b-a4eb-259f38507e3f",
   "metadata": {},
   "outputs": [],
   "source": [
    "import matplotlib.pyplot as plt\n",
    "import seaborn as sns"
   ]
  },
  {
   "cell_type": "code",
   "execution_count": 37,
   "id": "6c71afa5-7ccc-4850-8285-2ebb706640b0",
   "metadata": {},
   "outputs": [
    {
     "name": "stderr",
     "output_type": "stream",
     "text": [
      "C:\\Users\\HP\\anaconda3\\Lib\\site-packages\\seaborn\\_oldcore.py:1119: FutureWarning: use_inf_as_na option is deprecated and will be removed in a future version. Convert inf values to NaN before operating instead.\n",
      "  with pd.option_context('mode.use_inf_as_na', True):\n",
      "C:\\Users\\HP\\anaconda3\\Lib\\site-packages\\seaborn\\_oldcore.py:1119: FutureWarning: use_inf_as_na option is deprecated and will be removed in a future version. Convert inf values to NaN before operating instead.\n",
      "  with pd.option_context('mode.use_inf_as_na', True):\n"
     ]
    },
    {
     "data": {
      "image/png": "[encoded data removed]",
      "text/plain": [
       "<Figure size 800x500 with 1 Axes>"
      ]
     },
     "metadata": {},
     "output_type": "display_data"
    }
   ],
   "source": [
    "plt.figure(figsize=(8, 5))\n",
    "sns.histplot(games_df['WScore'], bins=30, kde=True, color='blue', label=\"Winning Scores\")\n",
    "sns.histplot(games_df['LScore'], bins=30, kde=True, color='red', label=\"Losing Scores\")\n",
    "plt.legend()\n",
    "plt.title(\"Score Distribution for Winning & Losing Teams\")\n",
    "plt.show()"
   ]
  },
  {
   "cell_type": "markdown",
   "id": "fd3278a9-0176-4cdc-86d0-26be0844a257",
   "metadata": {},
   "source": [
    "Winning  & Losing Score Distribution:\n",
    "\n",
    "-Most games have winning scores between 60-90 points.\n",
    "-Losing teams tend to score 50-80 points.\n",
    "-few extreme blowouts with very high scores.\n"
   ]
  },
  {
   "cell_type": "code",
   "execution_count": 38,
   "id": "93baa843-1b82-4c8a-a43c-2711ba685478",
   "metadata": {},
   "outputs": [
    {
     "data": {
      "image/png": "[encoded data removed]",
      "text/plain": [
       "<Figure size 1000x500 with 1 Axes>"
      ]
     },
     "metadata": {},
     "output_type": "display_data"
    }
   ],
   "source": [
    "games_df['Season'].value_counts().sort_index().plot(kind='bar', figsize=(10,5))\n",
    "plt.title(\"Number of Games per Season\")\n",
    "plt.xlabel(\"Season\")\n",
    "plt.ylabel(\"Number of Games\")\n",
    "plt.show()"
   ]
  },
  {
   "cell_type": "markdown",
   "id": "2263025a-56e6-4f6e-8019-b1ced3839993",
   "metadata": {},
   "source": [
    "The number of games  were being played between 2023-2024 "
   ]
  },
  {
   "cell_type": "code",
   "execution_count": 40,
   "id": "2e7dfaa5-4a1c-4959-ba60-68e8e1ab70e0",
   "metadata": {},
   "outputs": [
    {
     "name": "stderr",
     "output_type": "stream",
     "text": [
      "C:\\Users\\HP\\anaconda3\\Lib\\site-packages\\seaborn\\_oldcore.py:1119: FutureWarning: use_inf_as_na option is deprecated and will be removed in a future version. Convert inf values to NaN before operating instead.\n",
      "  with pd.option_context('mode.use_inf_as_na', True):\n"
     ]
    },
    {
     "data": {
      "image/png": "[encoded data removed]",
      "text/plain": [
       "<Figure size 1200x600 with 1 Axes>"
      ]
     },
     "metadata": {},
     "output_type": "display_data"
    }
   ],
   "source": [
    "# Winning margin distribution\n",
    "games_df['WinningMargin'] = games_df['WScore'] - games_df['LScore']\n",
    "plt.figure(figsize=(12, 6))\n",
    "sns.histplot(games_df['WinningMargin'], bins=50, kde=True, color=\"green\")\n",
    "plt.title(\"Distribution of Winning Margins\")\n",
    "plt.xlabel(\"Winning Margin (Points)\")\n",
    "plt.ylabel(\"Frequency\")\n",
    "plt.show()"
   ]
  },
  {
   "cell_type": "markdown",
   "id": "78f39ba3-1d72-482d-92ba-c8ef6b6cf861",
   "metadata": {},
   "source": [
    "Winning Margin Distribution:\n",
    "\n",
    "-Most games are decided by 5-15 points.\n",
    "-Close games (<5 points) are common, but big blowouts (30+ points) are rare."
   ]
  },
  {
   "cell_type": "code",
   "execution_count": 41,
   "id": "6445aa0b-9e2f-41d4-8d12-d6b99087ced4",
   "metadata": {},
   "outputs": [
    {
     "data": {
      "image/png": "[encoded data removed]",
      "text/plain": [
       "<Figure size 640x480 with 1 Axes>"
      ]
     },
     "metadata": {},
     "output_type": "display_data"
    }
   ],
   "source": [
    "games_df['WLoc'] = games_df['WLoc'].map({'H': 'Home', 'A': 'Away', 'N': 'Neutral'})\n",
    "\n",
    "sns.countplot(x=games_df['WLoc'])\n",
    "plt.title(\"Winning Locations (Home/Away/Neutral)\")\n",
    "plt.show()"
   ]
  },
  {
   "cell_type": "markdown",
   "id": "852880cd-bbed-48e1-aeaa-92d74739c0a5",
   "metadata": {},
   "source": [
    "Home-Court Advantage Analysis:\n",
    "\n",
    "-Home teams (H) win significantly more games than Away (A) or Neutral (N) locations.\n",
    "-Away teams win the least – showing a clear disadvantage when playing on the road.\n",
    "-Neutral site games (common in tournaments) have fewer total games but are more balanced.\n"
   ]
  },
  {
   "cell_type": "code",
   "execution_count": 43,
   "id": "72dfa1f6-2a0b-4c6e-834b-a71feef6da47",
   "metadata": {},
   "outputs": [],
   "source": [
    "# Count wins by location (H = Home, A = Away, N = Neutral)\n",
    "win_location_counts = games_df['WLoc'].value_counts()\n",
    "\n"
   ]
  },
  {
   "cell_type": "code",
   "execution_count": 45,
   "id": "409ec55d-6c21-4e31-ad6e-3da13e7b2d17",
   "metadata": {},
   "outputs": [
    {
     "name": "stdout",
     "output_type": "stream",
     "text": [
      "WLoc\n",
      "Home       112741\n",
      "Away        58493\n",
      "Neutral     19537\n",
      "Name: count, dtype: int64\n"
     ]
    }
   ],
   "source": [
    "print(win_location_counts)"
   ]
  },
  {
   "cell_type": "code",
   "execution_count": 46,
   "id": "92c389b2-a1f9-4f41-b56e-54599fb94665",
   "metadata": {},
   "outputs": [],
   "source": [
    "tourney_results = pd.read_csv(os.path.join(extract_path, \"MNCAATourneyCompactResults.csv\"))\n"
   ]
  },
  {
   "cell_type": "code",
   "execution_count": 47,
   "id": "57efd6a9-b76b-4fc2-a223-8c6c6bc619b5",
   "metadata": {},
   "outputs": [],
   "source": [
    "tourney_seeds = pd.read_csv(os.path.join(extract_path, \"MNCAATourneySeeds.csv\"))\n"
   ]
  },
  {
   "cell_type": "code",
   "execution_count": 48,
   "id": "7c1694f3-bfd8-4d49-9527-5fe9f10c9a54",
   "metadata": {},
   "outputs": [],
   "source": [
    "# Merge tournament results with seeds\n",
    "tourney_results = tourney_results.merge(tourney_seeds, left_on=\"WTeamID\", right_on=\"TeamID\", how=\"left\")\n",
    "tourney_results = tourney_results.rename(columns={\"Seed\": \"WSeed\"}).drop(columns=[\"TeamID\"])\n"
   ]
  },
  {
   "cell_type": "code",
   "execution_count": 49,
   "id": "e59e8eb7-6a49-4447-8f4b-2f4eeb7a9630",
   "metadata": {},
   "outputs": [],
   "source": [
    "tourney_results = tourney_results.merge(tourney_seeds, left_on=\"LTeamID\", right_on=\"TeamID\", how=\"left\")\n",
    "tourney_results = tourney_results.rename(columns={\"Seed\": \"LSeed\"}).drop(columns=[\"TeamID\"])\n"
   ]
  },
  {
   "cell_type": "code",
   "execution_count": 50,
   "id": "5300bc34-3132-4b46-83d7-8dc9c3008c83",
   "metadata": {},
   "outputs": [],
   "source": [
    "# Extract numeric seed values\n",
    "tourney_results['WSeed'] = tourney_results['WSeed'].str.extract('(\\d+)').astype(float)\n",
    "tourney_results['LSeed'] = tourney_results['LSeed'].str.extract('(\\d+)').astype(float)\n"
   ]
  },
  {
   "cell_type": "code",
   "execution_count": 51,
   "id": "cfe2ec71-2e20-4b72-8546-a58d2f35e5e5",
   "metadata": {},
   "outputs": [],
   "source": [
    "# Identify upsets\n",
    "tourney_results['Upset'] = tourney_results['WSeed'] > tourney_results['LSeed']\n",
    "upset_rate = tourney_results['Upset'].mean()\n"
   ]
  },
  {
   "cell_type": "code",
   "execution_count": 52,
   "id": "fef70f6f-93f8-46de-8f73-794a472a21e9",
   "metadata": {},
   "outputs": [
    {
     "name": "stdout",
     "output_type": "stream",
     "text": [
      "Upset Rate: 35.75%\n"
     ]
    }
   ],
   "source": [
    "print(f\"Upset Rate: {upset_rate:.2%}\")"
   ]
  },
  {
   "cell_type": "markdown",
   "id": "a6a83cf2-16d1-46e5-950b-a8ae753884c3",
   "metadata": {},
   "source": [
    "The result shows that 35.75% of the time, a lower-ranked team beat a higher-ranked team. This means that about 1 in 3 games, the favorite didn't win!"
   ]
  },
  {
   "cell_type": "code",
   "execution_count": 55,
   "id": "830a77c1-ff72-4333-9d75-d01be65cb9f9",
   "metadata": {},
   "outputs": [],
   "source": [
    "season_results = pd.read_csv(os.path.join(extract_path, \"MRegularSeasonCompactResults.csv\"))"
   ]
  },
  {
   "cell_type": "code",
   "execution_count": 56,
   "id": "cbd4f0a4-77bf-4e68-bfe3-bbfa33e323be",
   "metadata": {},
   "outputs": [],
   "source": [
    "# Count total wins per team\n",
    "wins = season_results.groupby('WTeamID').size().reset_index(name='Wins')"
   ]
  },
  {
   "cell_type": "code",
   "execution_count": 57,
   "id": "e38c081c-29eb-40e6-87c6-73461e2e675c",
   "metadata": {},
   "outputs": [
    {
     "name": "stdout",
     "output_type": "stream",
     "text": [
      "     WTeamID  Wins\n",
      "0       1101   145\n",
      "1       1102   395\n",
      "2       1103   683\n",
      "3       1104   791\n",
      "4       1105   242\n",
      "..       ...   ...\n",
      "375     1476    25\n",
      "376     1477    24\n",
      "377     1478    17\n",
      "378     1479     7\n",
      "379     1480     3\n",
      "\n",
      "[380 rows x 2 columns]\n"
     ]
    }
   ],
   "source": [
    "print(wins)"
   ]
  },
  {
   "cell_type": "code",
   "execution_count": 58,
   "id": "27aaaec6-8f77-4cc6-a715-2f0c4aa784e3",
   "metadata": {},
   "outputs": [],
   "source": [
    "# Count total losses per team\n",
    "losses = season_results.groupby('LTeamID').size().reset_index(name='Losses')\n"
   ]
  },
  {
   "cell_type": "code",
   "execution_count": 59,
   "id": "7e4a856c-2477-448c-850f-8934d71a9aa6",
   "metadata": {},
   "outputs": [
    {
     "name": "stdout",
     "output_type": "stream",
     "text": [
      "     LTeamID  Losses\n",
      "0       1101     166\n",
      "1       1102     705\n",
      "2       1103     484\n",
      "3       1104     463\n",
      "4       1105     452\n",
      "..       ...     ...\n",
      "375     1476      55\n",
      "376     1477      59\n",
      "377     1478      31\n",
      "378     1479      13\n",
      "379     1480      17\n",
      "\n",
      "[380 rows x 2 columns]\n"
     ]
    }
   ],
   "source": [
    "print(losses)"
   ]
  },
  {
   "cell_type": "code",
   "execution_count": 60,
   "id": "aa5bf202-bd22-4597-860e-605d46b3018a",
   "metadata": {},
   "outputs": [],
   "source": [
    "# Merge and compute win percentage\n",
    "team_stats = wins.merge(losses, left_on='WTeamID', right_on='LTeamID', how='outer').fillna(0)\n",
    "team_stats['TotalGames'] = team_stats['Wins'] + team_stats['Losses']\n",
    "team_stats['WinPct'] = team_stats['Wins'] / team_stats['TotalGames']\n"
   ]
  },
  {
   "cell_type": "code",
   "execution_count": 61,
   "id": "c88213f8-edea-49d4-b81a-a65fb68ead92",
   "metadata": {},
   "outputs": [],
   "source": [
    "# Rename columns for clarity\n",
    "team_stats = team_stats.rename(columns={'WTeamID': 'TeamID'})[['TeamID', 'WinPct']]"
   ]
  },
  {
   "cell_type": "code",
   "execution_count": 62,
   "id": "103aff22-8e5f-4511-b0df-36a641523403",
   "metadata": {},
   "outputs": [
    {
     "name": "stdout",
     "output_type": "stream",
     "text": [
      "   TeamID    WinPct\n",
      "0    1101  0.466238\n",
      "1    1102  0.359091\n",
      "2    1103  0.585261\n",
      "3    1104  0.630781\n",
      "4    1105  0.348703\n"
     ]
    }
   ],
   "source": [
    "print(team_stats.head())"
   ]
  },
  {
   "cell_type": "code",
   "execution_count": 63,
   "id": "e79d76b7-c47e-4629-87bf-e88600749dbd",
   "metadata": {},
   "outputs": [],
   "source": [
    "# Create a head-to-head matchup table\n",
    "head_to_head = season_results.groupby(['WTeamID', 'LTeamID']).size().reset_index(name='WinCount')\n",
    "\n"
   ]
  },
  {
   "cell_type": "code",
   "execution_count": 64,
   "id": "b262f22d-b7a5-4ca7-906d-cc31c1b3b6ad",
   "metadata": {},
   "outputs": [
    {
     "name": "stdout",
     "output_type": "stream",
     "text": [
      "   WTeamID  LTeamID  WinCount\n",
      "0     1101     1102         1\n",
      "1     1101     1115         1\n",
      "2     1101     1117         1\n",
      "3     1101     1122         1\n",
      "4     1101     1132         1\n"
     ]
    }
   ],
   "source": [
    "print(head_to_head.head())"
   ]
  },
  {
   "cell_type": "markdown",
   "id": "3b7a84da-8ec5-4d7f-a1b3-b686ab3b0713",
   "metadata": {},
   "source": [
    "MACHINE LEARNING"
   ]
  },
  {
   "cell_type": "code",
   "execution_count": 65,
   "id": "f9f81f9f-b3be-4c1a-ac94-077018490905",
   "metadata": {},
   "outputs": [],
   "source": [
    "# Loading datasets\n",
    "season_results = pd.read_csv(os.path.join(extract_path, \"MRegularSeasonCompactResults.csv\"))"
   ]
  },
  {
   "cell_type": "code",
   "execution_count": 66,
   "id": "0b90ec74-9dce-4616-a76b-8d29773717fd",
   "metadata": {},
   "outputs": [],
   "source": [
    "tourney_results = pd.read_csv(os.path.join(extract_path, \"MNCAATourneyCompactResults.csv\"))"
   ]
  },
  {
   "cell_type": "code",
   "execution_count": 67,
   "id": "4ca07043-3748-4eb0-b717-bb7daf938054",
   "metadata": {},
   "outputs": [],
   "source": [
    "seeds = pd.read_csv(os.path.join(extract_path, \"MNCAATourneySeeds.csv\"))"
   ]
  },
  {
   "cell_type": "code",
   "execution_count": 68,
   "id": "1e63b92c-ea07-4ffa-8558-14db63159e43",
   "metadata": {},
   "outputs": [],
   "source": [
    "teams = pd.read_csv(os.path.join(extract_path, \"MTeams.csv\"))\n"
   ]
  },
  {
   "cell_type": "code",
   "execution_count": 69,
   "id": "3ea1b612-ba05-46cc-9517-b0b119fe84e7",
   "metadata": {},
   "outputs": [
    {
     "name": "stdout",
     "output_type": "stream",
     "text": [
      "   Season  DayNum  WTeamID  WScore  LTeamID  LScore WLoc  NumOT\n",
      "0    1985      20     1228      81     1328      64    N      0\n",
      "1    1985      25     1106      77     1354      70    H      0\n",
      "2    1985      25     1112      63     1223      56    H      0\n",
      "3    1985      25     1165      70     1432      54    H      0\n",
      "4    1985      25     1192      86     1447      74    H      0\n"
     ]
    }
   ],
   "source": [
    "print(season_results.head())"
   ]
  },
  {
   "cell_type": "code",
   "execution_count": 70,
   "id": "28a353e2-6559-4240-9699-16001924943d",
   "metadata": {},
   "outputs": [
    {
     "name": "stdout",
     "output_type": "stream",
     "text": [
      "   Season  DayNum  WTeamID  WScore  LTeamID  LScore WLoc  NumOT\n",
      "0    1985     136     1116      63     1234      54    N      0\n",
      "1    1985     136     1120      59     1345      58    N      0\n",
      "2    1985     136     1207      68     1250      43    N      0\n",
      "3    1985     136     1229      58     1425      55    N      0\n",
      "4    1985     136     1242      49     1325      38    N      0\n"
     ]
    }
   ],
   "source": [
    "print(tourney_results.head())"
   ]
  },
  {
   "cell_type": "code",
   "execution_count": 71,
   "id": "531f3ff0-8de5-4034-8b70-104d348efd4c",
   "metadata": {},
   "outputs": [
    {
     "name": "stdout",
     "output_type": "stream",
     "text": [
      "   Season Seed  TeamID\n",
      "0    1985  W01    1207\n",
      "1    1985  W02    1210\n",
      "2    1985  W03    1228\n",
      "3    1985  W04    1260\n",
      "4    1985  W05    1374\n"
     ]
    }
   ],
   "source": [
    "print(seeds.head())"
   ]
  },
  {
   "cell_type": "code",
   "execution_count": 72,
   "id": "7dfa120b-1eac-4c4d-b628-fdf3f8678e86",
   "metadata": {},
   "outputs": [],
   "source": [
    "# Computing season win/loss stats for teams\n",
    "team_stats = season_results.groupby('WTeamID').agg(\n",
    "    wins=('WTeamID', 'count'),\n",
    "    total_points_scored=('WScore', 'sum'),\n",
    "    total_points_allowed=('LScore', 'sum')\n",
    ").reset_index()\n"
   ]
  },
  {
   "cell_type": "code",
   "execution_count": 73,
   "id": "27cc0aba-8f89-488b-a692-fe97cf374560",
   "metadata": {},
   "outputs": [],
   "source": [
    "# Rename columns\n",
    "team_stats.rename(columns={'WTeamID': 'TeamID'}, inplace=True)\n"
   ]
  },
  {
   "cell_type": "code",
   "execution_count": 74,
   "id": "ed630ddd-ef50-4844-9d7b-8a2c3c0ba20f",
   "metadata": {},
   "outputs": [],
   "source": [
    "# Compute total games played\n",
    "games_played = season_results.groupby('LTeamID').agg(\n",
    "    total_games=('LTeamID', 'count')\n",
    ").reset_index()\n"
   ]
  },
  {
   "cell_type": "code",
   "execution_count": 75,
   "id": "f0df1246-2c6f-4b74-8d30-efb660b9d1a4",
   "metadata": {},
   "outputs": [],
   "source": [
    "# Merge data\n",
    "team_stats = team_stats.merge(games_played, left_on='TeamID', right_on='LTeamID', how='left').drop(columns=['LTeamID'])\n",
    "team_stats.fillna(0, inplace=True)"
   ]
  },
  {
   "cell_type": "code",
   "execution_count": 76,
   "id": "e86bfc71-f6e0-412a-86ad-67efbc3534cd",
   "metadata": {},
   "outputs": [],
   "source": [
    "# Compute Win Percentage\n",
    "team_stats['win_percentage'] = team_stats['wins'] / (team_stats['wins'] + team_stats['total_games'])\n"
   ]
  },
  {
   "cell_type": "code",
   "execution_count": 77,
   "id": "0ae19c78-2ae6-4c0d-8c47-6a3d3257d983",
   "metadata": {},
   "outputs": [
    {
     "name": "stdout",
     "output_type": "stream",
     "text": [
      "   TeamID  wins  total_points_scored  total_points_allowed  total_games  \\\n",
      "0    1101   145                11093                  9473          166   \n",
      "1    1102   395                28033                 23331          705   \n",
      "2    1103   683                52068                 43514          484   \n",
      "3    1104   791                61461                 50625          463   \n",
      "4    1105   242                17985                 15525          452   \n",
      "\n",
      "   win_percentage  \n",
      "0        0.466238  \n",
      "1        0.359091  \n",
      "2        0.585261  \n",
      "3        0.630781  \n",
      "4        0.348703  \n"
     ]
    }
   ],
   "source": [
    "print(team_stats.head())\n"
   ]
  },
  {
   "cell_type": "code",
   "execution_count": 78,
   "id": "802b494a-a96a-47df-a570-f74e93b49367",
   "metadata": {},
   "outputs": [],
   "source": [
    "# Merge team stats with tournament results\n",
    "tourney_results = tourney_results.merge(team_stats, left_on=\"WTeamID\", right_on=\"TeamID\", how=\"left\").rename(\n",
    "    columns={\"win_percentage\": \"WWinPct\"})\n",
    "tourney_results = tourney_results.merge(team_stats, left_on=\"LTeamID\", right_on=\"TeamID\", how=\"left\").rename(\n",
    "    columns={\"win_percentage\": \"LWinPct\"})\n"
   ]
  },
  {
   "cell_type": "code",
   "execution_count": 79,
   "id": "d02658df-7318-48c0-b678-8e59f89ab1d3",
   "metadata": {},
   "outputs": [],
   "source": [
    "# Computing Seed Differences\n",
    "seeds['Seed'] = seeds['Seed'].str.extract('(\\d+)').astype(float)\n",
    "\n",
    "tourney_results = tourney_results.merge(seeds, left_on=\"WTeamID\", right_on=\"TeamID\", how=\"left\").rename(\n",
    "    columns={\"Seed\": \"WSeed\"}).drop(columns=[\"TeamID\"])\n",
    "tourney_results = tourney_results.merge(seeds, left_on=\"LTeamID\", right_on=\"TeamID\", how=\"left\").rename(\n",
    "    columns={\"Seed\": \"LSeed\"}).drop(columns=[\"TeamID\"])\n",
    "\n",
    "tourney_results['SeedDiff'] = tourney_results['WSeed'] - tourney_results['LSeed']\n"
   ]
  },
  {
   "cell_type": "code",
   "execution_count": 80,
   "id": "02f7b24b-919b-49f7-88d9-22a5e5eb6a60",
   "metadata": {},
   "outputs": [
    {
     "name": "stdout",
     "output_type": "stream",
     "text": [
      "    WWinPct   LWinPct  SeedDiff  Winner\n",
      "0  0.639396  0.602729       1.0       1\n",
      "1  0.639396  0.602729      -2.0       1\n",
      "2  0.639396  0.602729       7.0       1\n",
      "3  0.639396  0.602729       4.0       1\n",
      "4  0.639396  0.602729       5.0       1\n"
     ]
    }
   ],
   "source": [
    "# Final dataset for ML\n",
    "tourney_results = tourney_results[['WWinPct', 'LWinPct', 'SeedDiff']]\n",
    "tourney_results['Winner'] = 1  # 1 indicates WTeam won\n",
    "\n",
    "print(tourney_results.head())\n"
   ]
  },
  {
   "cell_type": "code",
   "execution_count": 81,
   "id": "376ceeb9-cf65-4832-b020-ec59f3d76d8e",
   "metadata": {},
   "outputs": [],
   "source": [
    "from sklearn.model_selection import train_test_split"
   ]
  },
  {
   "cell_type": "code",
   "execution_count": 82,
   "id": "26c9c625-a804-406c-aa84-02e8399964cd",
   "metadata": {},
   "outputs": [],
   "source": [
    "# Define features and target\n",
    "X = tourney_results[['WWinPct', 'LWinPct', 'SeedDiff']]\n",
    "y = tourney_results['Winner']\n"
   ]
  },
  {
   "cell_type": "code",
   "execution_count": 83,
   "id": "9affaaef-b4c2-46f6-a87c-d672405b80e9",
   "metadata": {},
   "outputs": [],
   "source": [
    "# Split into training and testing sets\n",
    "X_train, X_test, y_train, y_test = train_test_split(X, y, test_size=0.2, random_state=42)"
   ]
  },
  {
   "cell_type": "code",
   "execution_count": 84,
   "id": "a183b596-9d42-49b3-8408-c15b07ea346d",
   "metadata": {},
   "outputs": [
    {
     "name": "stdout",
     "output_type": "stream",
     "text": [
      "Training data shape: (682610, 3)\n"
     ]
    }
   ],
   "source": [
    "print(\"Training data shape:\", X_train.shape)"
   ]
  },
  {
   "cell_type": "code",
   "execution_count": 85,
   "id": "1db258fd-41af-44ad-9727-e9ece73d2b8d",
   "metadata": {},
   "outputs": [
    {
     "name": "stdout",
     "output_type": "stream",
     "text": [
      "Test data shape: (170653, 3)\n"
     ]
    }
   ],
   "source": [
    "print(\"Test data shape:\", X_test.shape)\n"
   ]
  },
  {
   "cell_type": "code",
   "execution_count": 86,
   "id": "35ad3d3b-835a-4c78-85bf-3cc4d3ee6e08",
   "metadata": {},
   "outputs": [],
   "source": [
    "from sklearn.ensemble import RandomForestClassifier"
   ]
  },
  {
   "cell_type": "code",
   "execution_count": 87,
   "id": "cbfe6d08-7602-4ee0-ac54-fb286921d7a9",
   "metadata": {},
   "outputs": [
    {
     "data": {
      "text/html": [
       "<style>#sk-container-id-1 {color: black;background-color: white;}#sk-container-id-1 pre{padding: 0;}#sk-container-id-1 div.sk-toggleable {background-color: white;}#sk-container-id-1 label.sk-toggleable__label {cursor: pointer;display: block;width: 100%;margin-bottom: 0;padding: 0.3em;box-sizing: border-box;text-align: center;}#sk-container-id-1 label.sk-toggleable__label-arrow:before {content: \"▸\";float: left;margin-right: 0.25em;color: #696969;}#sk-container-id-1 label.sk-toggleable__label-arrow:hover:before {color: black;}#sk-container-id-1 div.sk-estimator:hover label.sk-toggleable__label-arrow:before {color: black;}#sk-container-id-1 div.sk-toggleable__content {max-height: 0;max-width: 0;overflow: hidden;text-align: left;background-color: #f0f8ff;}#sk-container-id-1 div.sk-toggleable__content pre {margin: 0.2em;color: black;border-radius: 0.25em;background-color: #f0f8ff;}#sk-container-id-1 input.sk-toggleable__control:checked~div.sk-toggleable__content {max-height: 200px;max-width: 100%;overflow: auto;}#sk-container-id-1 input.sk-toggleable__control:checked~label.sk-toggleable__label-arrow:before {content: \"▾\";}#sk-container-id-1 div.sk-estimator input.sk-toggleable__control:checked~label.sk-toggleable__label {background-color: #d4ebff;}#sk-container-id-1 div.sk-label input.sk-toggleable__control:checked~label.sk-toggleable__label {background-color: #d4ebff;}#sk-container-id-1 input.sk-hidden--visually {border: 0;clip: rect(1px 1px 1px 1px);clip: rect(1px, 1px, 1px, 1px);height: 1px;margin: -1px;overflow: hidden;padding: 0;position: absolute;width: 1px;}#sk-container-id-1 div.sk-estimator {font-family: monospace;background-color: #f0f8ff;border: 1px dotted black;border-radius: 0.25em;box-sizing: border-box;margin-bottom: 0.5em;}#sk-container-id-1 div.sk-estimator:hover {background-color: #d4ebff;}#sk-container-id-1 div.sk-parallel-item::after {content: \"\";width: 100%;border-bottom: 1px solid gray;flex-grow: 1;}#sk-container-id-1 div.sk-label:hover label.sk-toggleable__label {background-color: #d4ebff;}#sk-container-id-1 div.sk-serial::before {content: \"\";position: absolute;border-left: 1px solid gray;box-sizing: border-box;top: 0;bottom: 0;left: 50%;z-index: 0;}#sk-container-id-1 div.sk-serial {display: flex;flex-direction: column;align-items: center;background-color: white;padding-right: 0.2em;padding-left: 0.2em;position: relative;}#sk-container-id-1 div.sk-item {position: relative;z-index: 1;}#sk-container-id-1 div.sk-parallel {display: flex;align-items: stretch;justify-content: center;background-color: white;position: relative;}#sk-container-id-1 div.sk-item::before, #sk-container-id-1 div.sk-parallel-item::before {content: \"\";position: absolute;border-left: 1px solid gray;box-sizing: border-box;top: 0;bottom: 0;left: 50%;z-index: -1;}#sk-container-id-1 div.sk-parallel-item {display: flex;flex-direction: column;z-index: 1;position: relative;background-color: white;}#sk-container-id-1 div.sk-parallel-item:first-child::after {align-self: flex-end;width: 50%;}#sk-container-id-1 div.sk-parallel-item:last-child::after {align-self: flex-start;width: 50%;}#sk-container-id-1 div.sk-parallel-item:only-child::after {width: 0;}#sk-container-id-1 div.sk-dashed-wrapped {border: 1px dashed gray;margin: 0 0.4em 0.5em 0.4em;box-sizing: border-box;padding-bottom: 0.4em;background-color: white;}#sk-container-id-1 div.sk-label label {font-family: monospace;font-weight: bold;display: inline-block;line-height: 1.2em;}#sk-container-id-1 div.sk-label-container {text-align: center;}#sk-container-id-1 div.sk-container {/* jupyter's `normalize.less` sets `[hidden] { display: none; }` but bootstrap.min.css set `[hidden] { display: none !important; }` so we also need the `!important` here to be able to override the default hidden behavior on the sphinx rendered scikit-learn.org. See: https://github.com/scikit-learn/scikit-learn/issues/21755 */display: inline-block !important;position: relative;}#sk-container-id-1 div.sk-text-repr-fallback {display: none;}</style><div id=\"sk-container-id-1\" class=\"sk-top-container\"><div class=\"sk-text-repr-fallback\"><pre>RandomForestClassifier(random_state=42)</pre><b>In a Jupyter environment, please rerun this cell to show the HTML representation or trust the notebook. <br />On GitHub, the HTML representation is unable to render, please try loading this page with nbviewer.org.</b></div><div class=\"sk-container\" hidden><div class=\"sk-item\"><div class=\"sk-estimator sk-toggleable\"><input class=\"sk-toggleable__control sk-hidden--visually\" id=\"sk-estimator-id-1\" type=\"checkbox\" checked><label for=\"sk-estimator-id-1\" class=\"sk-toggleable__label sk-toggleable__label-arrow\">RandomForestClassifier</label><div class=\"sk-toggleable__content\"><pre>RandomForestClassifier(random_state=42)</pre></div></div></div></div></div>"
      ],
      "text/plain": [
       "RandomForestClassifier(random_state=42)"
      ]
     },
     "execution_count": 87,
     "metadata": {},
     "output_type": "execute_result"
    }
   ],
   "source": [
    "# Train model\n",
    "model = RandomForestClassifier(n_estimators=100, random_state=42)\n",
    "model.fit(X_train, y_train)\n"
   ]
  },
  {
   "cell_type": "code",
   "execution_count": 88,
   "id": "defc679f-7481-43b1-b0f7-eebf8a4b85a1",
   "metadata": {},
   "outputs": [],
   "source": [
    "# Predictions\n",
    "y_pred = model.predict(X_test)\n"
   ]
  },
  {
   "cell_type": "code",
   "execution_count": 89,
   "id": "479845b7-596f-4bee-be58-20732f8ed0b2",
   "metadata": {},
   "outputs": [],
   "source": [
    "from sklearn.metrics import accuracy_score, classification_report"
   ]
  },
  {
   "cell_type": "code",
   "execution_count": 90,
   "id": "3853cfde-8d78-47c0-9609-a7b7f5d51577",
   "metadata": {},
   "outputs": [
    {
     "name": "stdout",
     "output_type": "stream",
     "text": [
      "Model Accuracy: 1.0\n"
     ]
    }
   ],
   "source": [
    "# Accuracy\n",
    "accuracy = accuracy_score(y_test, y_pred)\n",
    "print(\"Model Accuracy:\", accuracy)\n"
   ]
  },
  {
   "cell_type": "code",
   "execution_count": 91,
   "id": "fb00ee60-c0f7-44e9-9008-06f9bf6d81ab",
   "metadata": {},
   "outputs": [
    {
     "name": "stdout",
     "output_type": "stream",
     "text": [
      "              precision    recall  f1-score   support\n",
      "\n",
      "           1       1.00      1.00      1.00    170653\n",
      "\n",
      "    accuracy                           1.00    170653\n",
      "   macro avg       1.00      1.00      1.00    170653\n",
      "weighted avg       1.00      1.00      1.00    170653\n",
      "\n"
     ]
    }
   ],
   "source": [
    "# Detailed Performance Report\n",
    "print(classification_report(y_test, y_pred))\n"
   ]
  },
  {
   "cell_type": "markdown",
   "id": "ec1936f6-ee98-4527-9ad9-d5d29098c52c",
   "metadata": {},
   "source": [
    "MAKING PREDICTIONS USING THE TRAINED MODEL"
   ]
  },
  {
   "cell_type": "code",
   "execution_count": 105,
   "id": "237a390c-3d89-4a2e-8be9-f67ee87d64c7",
   "metadata": {},
   "outputs": [],
   "source": [
    "# Define the features to use for prediction\n",
    "features = ['WWinPct', 'LWinPct', 'SeedDiff']"
   ]
  },
  {
   "cell_type": "code",
   "execution_count": 109,
   "id": "6b180e10-76ea-473e-8cbb-6fb50fb5f964",
   "metadata": {},
   "outputs": [],
   "source": [
    "# Create a new DataFrame with the selected features\n",
    "upcoming_matchup_df = tourney_results[features]\n"
   ]
  },
  {
   "cell_type": "code",
   "execution_count": 110,
   "id": "62d48ded-52e7-49a5-a7e2-b2685ecfedbf",
   "metadata": {},
   "outputs": [],
   "source": [
    "# Make predictions on the new data\n",
    "predictions = model.predict(upcoming_matchup_df)\n"
   ]
  },
  {
   "cell_type": "code",
   "execution_count": 111,
   "id": "c08eff93-a945-44f6-8972-dcb2b8f0227a",
   "metadata": {},
   "outputs": [
    {
     "name": "stdout",
     "output_type": "stream",
     "text": [
      "Predictions:\n",
      "[1 1 1 ... 1 1 1]\n"
     ]
    }
   ],
   "source": [
    "# Print the predictions\n",
    "print(\"Predictions:\")\n",
    "print(predictions)\n"
   ]
  },
  {
   "cell_type": "markdown",
   "id": "6b18c091-b071-4de2-b09f-d5c102cdf0ca",
   "metadata": {},
   "source": [
    "Each row in my dataset represents a past tournament game between two teams.\n",
    "\n",
    "-The model was trained on these historical matchups using Win Percentage and Seed Differences as key factors.\n",
    "-It learned patterns from past results and is now applying them to make predictions on new matchups.\n"
   ]
  },
  {
   "cell_type": "markdown",
   "id": "15922169-5e9e-40c1-b93d-97c6702b1b58",
   "metadata": {},
   "source": [
    "In my data, 1 means the \"WTeam\" (the first team listed) wins the matchup"
   ]
  },
  {
   "cell_type": "code",
   "execution_count": null,
   "id": "3d6601b4-a652-4f25-a468-2c878a6dff6a",
   "metadata": {},
   "outputs": [],
   "source": []
  }
 ],
 "metadata": {
  "kernelspec": {
   "display_name": "Python 3 (ipykernel)",
   "language": "python",
   "name": "python3"
  },
  "language_info": {
   "codemirror_mode": {
    "name": "ipython",
    "version": 3
   },
   "file_extension": ".py",
   "mimetype": "text/x-python",
   "name": "python",
   "nbconvert_exporter": "python",
   "pygments_lexer": "ipython3",
   "version": "3.11.7"
  }
 },
 "nbformat": 4,
 "nbformat_minor": 5
}
